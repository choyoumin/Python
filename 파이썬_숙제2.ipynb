{
  "nbformat": 4,
  "nbformat_minor": 0,
  "metadata": {
    "colab": {
      "provenance": [],
      "collapsed_sections": [],
      "authorship_tag": "ABX9TyNPXArXaXg+RpXeRDSeHfWN",
      "include_colab_link": true
    },
    "kernelspec": {
      "name": "python3",
      "display_name": "Python 3"
    },
    "language_info": {
      "name": "python"
    }
  },
  "cells": [
    {
      "cell_type": "markdown",
      "metadata": {
        "id": "view-in-github",
        "colab_type": "text"
      },
      "source": [
        "<a href=\"https://colab.research.google.com/github/choyoumin/Python/blob/main/%ED%8C%8C%EC%9D%B4%EC%8D%AC_%EC%88%99%EC%A0%9C2.ipynb\" target=\"_parent\"><img src=\"https://colab.research.google.com/assets/colab-badge.svg\" alt=\"Open In Colab\"/></a>"
      ]
    },
    {
      "cell_type": "code",
      "source": [
        "lst = []\n",
        "\n",
        "for i in range(100):\n",
        "    a = int(input(\"자연수 한 개를 입력하세요 : \"))\n",
        "    \n",
        "    lst.append(a)\n",
        "    if a == 0 :\n",
        "     break \n",
        "for i in range(0, len(lst) - 1):\n",
        "  min_i = i\n",
        "  for j in range(i + 1, len(lst)):\n",
        "      if lst[j] < lst[min_i]:\n",
        "        min_i = j\n",
        "  lst[i] , lst[min_i] = lst[min_i], lst[i]\n",
        "   \n",
        "print(lst)\n",
        "  \n",
        "\n",
        "###b = input(\"계속 입력을 원하시면, 자연수 한 개를 입력하시고, 아니라면 0을 입력하세요 : \")  \n"
      ],
      "metadata": {
        "colab": {
          "base_uri": "https://localhost:8080/"
        },
        "id": "2WWA0JbnEN48",
        "outputId": "b12581e2-5e1a-4a81-a043-a440b10b65f1"
      },
      "execution_count": 35,
      "outputs": [
        {
          "output_type": "stream",
          "name": "stdout",
          "text": [
            "자연수 한 개를 입력하세요 : 3\n",
            "자연수 한 개를 입력하세요 : 1\n",
            "자연수 한 개를 입력하세요 : 22\n",
            "자연수 한 개를 입력하세요 : 0\n",
            "[0, 1, 3, 22]\n"
          ]
        }
      ]
    },
    {
      "cell_type": "code",
      "execution_count": 4,
      "metadata": {
        "id": "oOhAOuNDwfiX",
        "colab": {
          "base_uri": "https://localhost:8080/"
        },
        "outputId": "bdab5aed-783b-4cf9-a5ac-c03ffeb26f95"
      },
      "outputs": [
        {
          "output_type": "stream",
          "name": "stdout",
          "text": [
            "숫자를 입력하세요 : 30\n",
            "1\n",
            "* 2\n",
            "* * 3\n",
            "* * * 4\n",
            "* * * * 5\n",
            "* * * * * 6\n",
            "* * * * * * 7\n",
            "* * * * * * * 8\n",
            "* * * * * * * * 9\n",
            "* * * * * * * * * 10\n",
            "* * * * * * * * * * 11\n",
            "* * * * * * * * * * * 12\n",
            "* * * * * * * * * * * * 13\n",
            "* * * * * * * * * * * * * 14\n",
            "* * * * * * * * * * * * * * 15\n",
            "* * * * * * * * * * * * * * * 16\n",
            "* * * * * * * * * * * * * * * * 17\n",
            "* * * * * * * * * * * * * * * * * 18\n",
            "* * * * * * * * * * * * * * * * * * 19\n",
            "* * * * * * * * * * * * * * * * * * * 20\n",
            "* * * * * * * * * * * * * * * * * * * * 21\n",
            "* * * * * * * * * * * * * * * * * * * * * 22\n",
            "* * * * * * * * * * * * * * * * * * * * * * 23\n",
            "* * * * * * * * * * * * * * * * * * * * * * * 24\n",
            "* * * * * * * * * * * * * * * * * * * * * * * * 25\n",
            "* * * * * * * * * * * * * * * * * * * * * * * * * 26\n",
            "* * * * * * * * * * * * * * * * * * * * * * * * * * 27\n",
            "* * * * * * * * * * * * * * * * * * * * * * * * * * * 28\n",
            "* * * * * * * * * * * * * * * * * * * * * * * * * * * * 29\n",
            "* * * * * * * * * * * * * * * * * * * * * * * * * * * * * 30\n"
          ]
        }
      ],
      "source": [
        "a = input(\"숫자를 입력하세요 : \")\n",
        "\n",
        "a = int(a)\n",
        "i = 0\n",
        "if a <= 30:\n",
        "  while i < a :\n",
        "    j = 1\n",
        "    while j <= i:\n",
        "      print(\"*\", end = \" \")\n",
        "    \n",
        "      j += 1\n",
        "    print(j)\n",
        "    i += 1\n",
        "\n",
        "if a > 30:\n",
        "    print(\"숫자가 너무 큽니다.\")"
      ]
    },
    {
      "cell_type": "code",
      "source": [],
      "metadata": {
        "id": "l_w7Y8V8bGKb"
      },
      "execution_count": null,
      "outputs": []
    }
  ]
}