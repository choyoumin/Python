{
  "nbformat": 4,
  "nbformat_minor": 0,
  "metadata": {
    "colab": {
      "provenance": [],
      "collapsed_sections": [],
      "authorship_tag": "ABX9TyOzW3/k1n6NBpRCNI+0Jog3",
      "include_colab_link": true
    },
    "kernelspec": {
      "name": "python3",
      "display_name": "Python 3"
    },
    "language_info": {
      "name": "python"
    }
  },
  "cells": [
    {
      "cell_type": "markdown",
      "metadata": {
        "id": "view-in-github",
        "colab_type": "text"
      },
      "source": [
        "<a href=\"https://colab.research.google.com/github/choyoumin/ym/blob/main/%ED%8C%8C%EC%9D%B4%EC%8D%AC_%EC%88%99%EC%A0%9C1.ipynb\" target=\"_parent\"><img src=\"https://colab.research.google.com/assets/colab-badge.svg\" alt=\"Open In Colab\"/></a>"
      ]
    },
    {
      "cell_type": "code",
      "execution_count": 1,
      "metadata": {
        "colab": {
          "base_uri": "https://localhost:8080/"
        },
        "id": "h2fXZACjhTqp",
        "outputId": "b3a5d62b-2e65-4e7e-ffc4-2959c657d409"
      },
      "outputs": [
        {
          "output_type": "stream",
          "name": "stdout",
          "text": [
            "3\n"
          ]
        }
      ],
      "source": [
        "# 조유민 202004485\n",
        "a=1\n",
        "b=2\n",
        "print(a+b)\n"
      ]
    },
    {
      "cell_type": "code",
      "source": [
        "a = input(\"숫자를 입력하세요 : \")\n",
        "\n",
        "a = int(a)\n",
        "\n",
        "if a <= 30:\n",
        "  for i in range(1,a+1):\n",
        "      for j in range(1, i+1):\n",
        "          print(j, end=\"\")\n",
        "      print()\n",
        "if a > 30:\n",
        "    print(\"숫자가 너무 큽니다.\")\n"
      ],
      "metadata": {
        "id": "7eHj7aI3huT9",
        "colab": {
          "base_uri": "https://localhost:8080/"
        },
        "outputId": "87fa0850-d0ce-401c-b13f-2170c768731a"
      },
      "execution_count": 3,
      "outputs": [
        {
          "output_type": "stream",
          "name": "stdout",
          "text": [
            "숫자를 입력하세요 : 21\n",
            "1\n",
            "12\n",
            "123\n",
            "1234\n",
            "12345\n",
            "123456\n",
            "1234567\n",
            "12345678\n",
            "123456789\n",
            "12345678910\n",
            "1234567891011\n",
            "123456789101112\n",
            "12345678910111213\n",
            "1234567891011121314\n",
            "123456789101112131415\n",
            "12345678910111213141516\n",
            "1234567891011121314151617\n",
            "123456789101112131415161718\n",
            "12345678910111213141516171819\n",
            "1234567891011121314151617181920\n",
            "123456789101112131415161718192021\n"
          ]
        }
      ]
    },
    {
      "cell_type": "code",
      "source": [
        "#if a.isdecimal == False :\n",
        "#  print(\"정수로 입력하세요.\")"
      ],
      "metadata": {
        "id": "QAfG-pqcorQb"
      },
      "execution_count": null,
      "outputs": []
    }
  ]
}