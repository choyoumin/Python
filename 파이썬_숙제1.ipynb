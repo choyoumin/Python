{
  "nbformat": 4,
  "nbformat_minor": 0,
  "metadata": {
    "colab": {
      "provenance": [],
      "collapsed_sections": [],
      "authorship_tag": "ABX9TyNZ7orJXeK8ddn1U1nO95sL",
      "include_colab_link": true
    },
    "kernelspec": {
      "name": "python3",
      "display_name": "Python 3"
    },
    "language_info": {
      "name": "python"
    }
  },
  "cells": [
    {
      "cell_type": "markdown",
      "metadata": {
        "id": "view-in-github",
        "colab_type": "text"
      },
      "source": [
        "<a href=\"https://colab.research.google.com/github/choyoumin/ym/blob/main/%ED%8C%8C%EC%9D%B4%EC%8D%AC_%EC%88%99%EC%A0%9C1.ipynb\" target=\"_parent\"><img src=\"https://colab.research.google.com/assets/colab-badge.svg\" alt=\"Open In Colab\"/></a>"
      ]
    },
    {
      "cell_type": "code",
      "execution_count": 1,
      "metadata": {
        "colab": {
          "base_uri": "https://localhost:8080/"
        },
        "id": "h2fXZACjhTqp",
        "outputId": "b3a5d62b-2e65-4e7e-ffc4-2959c657d409"
      },
      "outputs": [
        {
          "output_type": "stream",
          "name": "stdout",
          "text": [
            "3\n"
          ]
        }
      ],
      "source": [
        "# 조유민 202004485\n",
        "a=1\n",
        "b=2\n",
        "print(a+b)\n"
      ]
    },
    {
      "cell_type": "code",
      "source": [
        "a = input(\"숫자를 입력하세요 : \")\n",
        "a = int(a)\n",
        "\n",
        "if a <= 30:\n",
        "  for i in range(1,a+1):\n",
        "      for j in range(1, i+1):\n",
        "          print(j, end=\"\")\n",
        "      print()\n",
        "if a > 30:\n",
        "    print(\"숫자가 너무 큽니다.\")\n"
      ],
      "metadata": {
        "id": "7eHj7aI3huT9",
        "colab": {
          "base_uri": "https://localhost:8080/"
        },
        "outputId": "44d71c3c-7123-413b-8b9f-9d427e158a30"
      },
      "execution_count": 25,
      "outputs": [
        {
          "output_type": "stream",
          "name": "stdout",
          "text": [
            "숫자를 입력하세요 : 32\n",
            "숫자가 너무 큽니다.\n"
          ]
        }
      ]
    },
    {
      "cell_type": "code",
      "source": [],
      "metadata": {
        "id": "QAfG-pqcorQb"
      },
      "execution_count": null,
      "outputs": []
    }
  ]
}